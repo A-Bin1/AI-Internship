{
  "nbformat": 4,
  "nbformat_minor": 0,
  "metadata": {
    "colab": {
      "provenance": [],
      "authorship_tag": "ABX9TyOkxCUFvevbzzidNsmL766j"
    },
    "kernelspec": {
      "name": "python3",
      "display_name": "Python 3"
    },
    "language_info": {
      "name": "python"
    }
  },
  "cells": [
    {
      "cell_type": "markdown",
      "source": [
        "**Few Shot Prompts, Upsampling, ROC Analysis, and LLM Model Evaluation and Comparison with Existing One (Presidio)**"
      ],
      "metadata": {
        "id": "AeGzpexmByKz"
      }
    },
    {
      "cell_type": "code",
      "execution_count": null,
      "metadata": {
        "colab": {
          "base_uri": "https://localhost:8080/"
        },
        "id": "-KZcChggN3He",
        "outputId": "01b4d3a6-beae-4bf1-9df4-ee19b2283b5e",
        "collapsed": true
      },
      "outputs": [
        {
          "output_type": "stream",
          "name": "stdout",
          "text": [
            "Collecting datasets\n",
            "  Downloading datasets-2.14.4-py3-none-any.whl (519 kB)\n",
            "\u001b[2K     \u001b[90m━━━━━━━━━━━━━━━━━━━━━━━━━━━━━━━━━━━━━━━\u001b[0m \u001b[32m519.3/519.3 kB\u001b[0m \u001b[31m6.2 MB/s\u001b[0m eta \u001b[36m0:00:00\u001b[0m\n",
            "\u001b[?25hRequirement already satisfied: numpy>=1.17 in /usr/local/lib/python3.10/dist-packages (from datasets) (1.23.5)\n",
            "Requirement already satisfied: pyarrow>=8.0.0 in /usr/local/lib/python3.10/dist-packages (from datasets) (9.0.0)\n",
            "Collecting dill<0.3.8,>=0.3.0 (from datasets)\n",
            "  Downloading dill-0.3.7-py3-none-any.whl (115 kB)\n",
            "\u001b[2K     \u001b[90m━━━━━━━━━━━━━━━━━━━━━━━━━━━━━━━━━━━━━━━\u001b[0m \u001b[32m115.3/115.3 kB\u001b[0m \u001b[31m7.9 MB/s\u001b[0m eta \u001b[36m0:00:00\u001b[0m\n",
            "\u001b[?25hRequirement already satisfied: pandas in /usr/local/lib/python3.10/dist-packages (from datasets) (1.5.3)\n",
            "Requirement already satisfied: requests>=2.19.0 in /usr/local/lib/python3.10/dist-packages (from datasets) (2.31.0)\n",
            "Requirement already satisfied: tqdm>=4.62.1 in /usr/local/lib/python3.10/dist-packages (from datasets) (4.66.1)\n",
            "Collecting xxhash (from datasets)\n",
            "  Downloading xxhash-3.3.0-cp310-cp310-manylinux_2_17_x86_64.manylinux2014_x86_64.whl (194 kB)\n",
            "\u001b[2K     \u001b[90m━━━━━━━━━━━━━━━━━━━━━━━━━━━━━━━━━━━━━━\u001b[0m \u001b[32m194.1/194.1 kB\u001b[0m \u001b[31m10.5 MB/s\u001b[0m eta \u001b[36m0:00:00\u001b[0m\n",
            "\u001b[?25hCollecting multiprocess (from datasets)\n",
            "  Downloading multiprocess-0.70.15-py310-none-any.whl (134 kB)\n",
            "\u001b[2K     \u001b[90m━━━━━━━━━━━━━━━━━━━━━━━━━━━━━━━━━━━━━━━\u001b[0m \u001b[32m134.8/134.8 kB\u001b[0m \u001b[31m8.8 MB/s\u001b[0m eta \u001b[36m0:00:00\u001b[0m\n",
            "\u001b[?25hRequirement already satisfied: fsspec[http]>=2021.11.1 in /usr/local/lib/python3.10/dist-packages (from datasets) (2023.6.0)\n",
            "Requirement already satisfied: aiohttp in /usr/local/lib/python3.10/dist-packages (from datasets) (3.8.5)\n",
            "Requirement already satisfied: huggingface-hub<1.0.0,>=0.14.0 in /usr/local/lib/python3.10/dist-packages (from datasets) (0.16.4)\n",
            "Requirement already satisfied: packaging in /usr/local/lib/python3.10/dist-packages (from datasets) (23.1)\n",
            "Requirement already satisfied: pyyaml>=5.1 in /usr/local/lib/python3.10/dist-packages (from datasets) (6.0.1)\n",
            "Requirement already satisfied: attrs>=17.3.0 in /usr/local/lib/python3.10/dist-packages (from aiohttp->datasets) (23.1.0)\n",
            "Requirement already satisfied: charset-normalizer<4.0,>=2.0 in /usr/local/lib/python3.10/dist-packages (from aiohttp->datasets) (3.2.0)\n",
            "Requirement already satisfied: multidict<7.0,>=4.5 in /usr/local/lib/python3.10/dist-packages (from aiohttp->datasets) (6.0.4)\n",
            "Requirement already satisfied: async-timeout<5.0,>=4.0.0a3 in /usr/local/lib/python3.10/dist-packages (from aiohttp->datasets) (4.0.3)\n",
            "Requirement already satisfied: yarl<2.0,>=1.0 in /usr/local/lib/python3.10/dist-packages (from aiohttp->datasets) (1.9.2)\n",
            "Requirement already satisfied: frozenlist>=1.1.1 in /usr/local/lib/python3.10/dist-packages (from aiohttp->datasets) (1.4.0)\n",
            "Requirement already satisfied: aiosignal>=1.1.2 in /usr/local/lib/python3.10/dist-packages (from aiohttp->datasets) (1.3.1)\n",
            "Requirement already satisfied: filelock in /usr/local/lib/python3.10/dist-packages (from huggingface-hub<1.0.0,>=0.14.0->datasets) (3.12.2)\n",
            "Requirement already satisfied: typing-extensions>=3.7.4.3 in /usr/local/lib/python3.10/dist-packages (from huggingface-hub<1.0.0,>=0.14.0->datasets) (4.7.1)\n",
            "Requirement already satisfied: idna<4,>=2.5 in /usr/local/lib/python3.10/dist-packages (from requests>=2.19.0->datasets) (3.4)\n",
            "Requirement already satisfied: urllib3<3,>=1.21.1 in /usr/local/lib/python3.10/dist-packages (from requests>=2.19.0->datasets) (2.0.4)\n",
            "Requirement already satisfied: certifi>=2017.4.17 in /usr/local/lib/python3.10/dist-packages (from requests>=2.19.0->datasets) (2023.7.22)\n",
            "Requirement already satisfied: python-dateutil>=2.8.1 in /usr/local/lib/python3.10/dist-packages (from pandas->datasets) (2.8.2)\n",
            "Requirement already satisfied: pytz>=2020.1 in /usr/local/lib/python3.10/dist-packages (from pandas->datasets) (2023.3)\n",
            "Requirement already satisfied: six>=1.5 in /usr/local/lib/python3.10/dist-packages (from python-dateutil>=2.8.1->pandas->datasets) (1.16.0)\n",
            "Installing collected packages: xxhash, dill, multiprocess, datasets\n",
            "Successfully installed datasets-2.14.4 dill-0.3.7 multiprocess-0.70.15 xxhash-3.3.0\n"
          ]
        }
      ],
      "source": [
        "!pip install datasets"
      ]
    },
    {
      "cell_type": "code",
      "execution_count": null,
      "metadata": {
        "colab": {
          "base_uri": "https://localhost:8080/"
        },
        "id": "H2NcYCqaUHb7",
        "outputId": "8ac3a218-5022-4054-92cd-9f077fa1a12c",
        "collapsed": true
      },
      "outputs": [
        {
          "output_type": "stream",
          "name": "stdout",
          "text": [
            "Collecting langchain\n",
            "  Downloading langchain-0.0.247-py3-none-any.whl (1.4 MB)\n",
            "\u001b[2K     \u001b[90m━━━━━━━━━━━━━━━━━━━━━━━━━━━━━━━━━━━━━━━━\u001b[0m \u001b[32m1.4/1.4 MB\u001b[0m \u001b[31m6.9 MB/s\u001b[0m eta \u001b[36m0:00:00\u001b[0m\n",
            "\u001b[?25hRequirement already satisfied: PyYAML>=5.4.1 in /usr/local/lib/python3.10/dist-packages (from langchain) (6.0.1)\n",
            "Requirement already satisfied: SQLAlchemy<3,>=1.4 in /usr/local/lib/python3.10/dist-packages (from langchain) (2.0.19)\n",
            "Requirement already satisfied: aiohttp<4.0.0,>=3.8.3 in /usr/local/lib/python3.10/dist-packages (from langchain) (3.8.5)\n",
            "Requirement already satisfied: async-timeout<5.0.0,>=4.0.0 in /usr/local/lib/python3.10/dist-packages (from langchain) (4.0.2)\n",
            "Collecting dataclasses-json<0.6.0,>=0.5.7 (from langchain)\n",
            "  Downloading dataclasses_json-0.5.14-py3-none-any.whl (26 kB)\n",
            "Collecting langsmith<0.1.0,>=0.0.11 (from langchain)\n",
            "  Downloading langsmith-0.0.15-py3-none-any.whl (30 kB)\n",
            "Requirement already satisfied: numexpr<3.0.0,>=2.8.4 in /usr/local/lib/python3.10/dist-packages (from langchain) (2.8.4)\n",
            "Requirement already satisfied: numpy<2,>=1 in /usr/local/lib/python3.10/dist-packages (from langchain) (1.22.4)\n",
            "Collecting openapi-schema-pydantic<2.0,>=1.2 (from langchain)\n",
            "  Downloading openapi_schema_pydantic-1.2.4-py3-none-any.whl (90 kB)\n",
            "\u001b[2K     \u001b[90m━━━━━━━━━━━━━━━━━━━━━━━━━━━━━━━━━━━━━━━━\u001b[0m \u001b[32m90.0/90.0 kB\u001b[0m \u001b[31m10.9 MB/s\u001b[0m eta \u001b[36m0:00:00\u001b[0m\n",
            "\u001b[?25hRequirement already satisfied: pydantic<2,>=1 in /usr/local/lib/python3.10/dist-packages (from langchain) (1.10.12)\n",
            "Requirement already satisfied: requests<3,>=2 in /usr/local/lib/python3.10/dist-packages (from langchain) (2.27.1)\n",
            "Requirement already satisfied: tenacity<9.0.0,>=8.1.0 in /usr/local/lib/python3.10/dist-packages (from langchain) (8.2.2)\n",
            "Requirement already satisfied: attrs>=17.3.0 in /usr/local/lib/python3.10/dist-packages (from aiohttp<4.0.0,>=3.8.3->langchain) (23.1.0)\n",
            "Requirement already satisfied: charset-normalizer<4.0,>=2.0 in /usr/local/lib/python3.10/dist-packages (from aiohttp<4.0.0,>=3.8.3->langchain) (2.0.12)\n",
            "Requirement already satisfied: multidict<7.0,>=4.5 in /usr/local/lib/python3.10/dist-packages (from aiohttp<4.0.0,>=3.8.3->langchain) (6.0.4)\n",
            "Requirement already satisfied: yarl<2.0,>=1.0 in /usr/local/lib/python3.10/dist-packages (from aiohttp<4.0.0,>=3.8.3->langchain) (1.9.2)\n",
            "Requirement already satisfied: frozenlist>=1.1.1 in /usr/local/lib/python3.10/dist-packages (from aiohttp<4.0.0,>=3.8.3->langchain) (1.4.0)\n",
            "Requirement already satisfied: aiosignal>=1.1.2 in /usr/local/lib/python3.10/dist-packages (from aiohttp<4.0.0,>=3.8.3->langchain) (1.3.1)\n",
            "Collecting marshmallow<4.0.0,>=3.18.0 (from dataclasses-json<0.6.0,>=0.5.7->langchain)\n",
            "  Downloading marshmallow-3.20.1-py3-none-any.whl (49 kB)\n",
            "\u001b[2K     \u001b[90m━━━━━━━━━━━━━━━━━━━━━━━━━━━━━━━━━━━━━━━━\u001b[0m \u001b[32m49.4/49.4 kB\u001b[0m \u001b[31m5.3 MB/s\u001b[0m eta \u001b[36m0:00:00\u001b[0m\n",
            "\u001b[?25hCollecting typing-inspect<1,>=0.4.0 (from dataclasses-json<0.6.0,>=0.5.7->langchain)\n",
            "  Downloading typing_inspect-0.9.0-py3-none-any.whl (8.8 kB)\n",
            "Requirement already satisfied: typing-extensions>=4.2.0 in /usr/local/lib/python3.10/dist-packages (from pydantic<2,>=1->langchain) (4.7.1)\n",
            "Requirement already satisfied: urllib3<1.27,>=1.21.1 in /usr/local/lib/python3.10/dist-packages (from requests<3,>=2->langchain) (1.26.16)\n",
            "Requirement already satisfied: certifi>=2017.4.17 in /usr/local/lib/python3.10/dist-packages (from requests<3,>=2->langchain) (2023.7.22)\n",
            "Requirement already satisfied: idna<4,>=2.5 in /usr/local/lib/python3.10/dist-packages (from requests<3,>=2->langchain) (3.4)\n",
            "Requirement already satisfied: greenlet!=0.4.17 in /usr/local/lib/python3.10/dist-packages (from SQLAlchemy<3,>=1.4->langchain) (2.0.2)\n",
            "Requirement already satisfied: packaging>=17.0 in /usr/local/lib/python3.10/dist-packages (from marshmallow<4.0.0,>=3.18.0->dataclasses-json<0.6.0,>=0.5.7->langchain) (23.1)\n",
            "Collecting mypy-extensions>=0.3.0 (from typing-inspect<1,>=0.4.0->dataclasses-json<0.6.0,>=0.5.7->langchain)\n",
            "  Downloading mypy_extensions-1.0.0-py3-none-any.whl (4.7 kB)\n",
            "Installing collected packages: mypy-extensions, marshmallow, typing-inspect, openapi-schema-pydantic, langsmith, dataclasses-json, langchain\n",
            "Successfully installed dataclasses-json-0.5.14 langchain-0.0.247 langsmith-0.0.15 marshmallow-3.20.1 mypy-extensions-1.0.0 openapi-schema-pydantic-1.2.4 typing-inspect-0.9.0\n"
          ]
        }
      ],
      "source": [
        "!pip install langchain"
      ]
    },
    {
      "cell_type": "code",
      "execution_count": null,
      "metadata": {
        "id": "AMsWUJ8zUSHZ"
      },
      "outputs": [],
      "source": [
        "import io\n",
        "import os\n",
        "import os; os.environ['OPENAI_API_KEY'] = 'insertkeyhere'"
      ]
    },
    {
      "cell_type": "code",
      "execution_count": null,
      "metadata": {
        "id": "O7M4LH-IOyTK"
      },
      "outputs": [],
      "source": [
        "from langchain.chat_models import ChatOpenAI\n",
        "from langchain import PromptTemplate, LLMChain\n",
        "from langchain.prompts.chat import (\n",
        "    ChatPromptTemplate,\n",
        "    SystemMessagePromptTemplate,\n",
        "    AIMessagePromptTemplate,\n",
        "    HumanMessagePromptTemplate,\n",
        ")\n",
        "from langchain.schema import (\n",
        "    AIMessage,\n",
        "    HumanMessage,\n",
        "    SystemMessage\n",
        ")\n",
        "\n",
        "chat = ChatOpenAI(temperature=0)"
      ]
    },
    {
      "cell_type": "code",
      "source": [
        "import pandas as pd\n",
        "import datasets\n",
        "from datasets import load_dataset\n",
        "import pickle"
      ],
      "metadata": {
        "id": "pBdSe8k0DSqE"
      },
      "execution_count": null,
      "outputs": []
    },
    {
      "cell_type": "code",
      "execution_count": null,
      "metadata": {
        "id": "N7T3IAT0N9pe",
        "colab": {
          "base_uri": "https://localhost:8080/"
        },
        "outputId": "8af38867-e46a-456c-ec07-9d737fc75875"
      },
      "outputs": [
        {
          "output_type": "stream",
          "name": "stderr",
          "text": [
            "WARNING:datasets.builder:No config specified, defaulting to: privy/small\n",
            "WARNING:datasets.builder:Found cached dataset privy (/root/.cache/huggingface/datasets/beki___privy/small/1.0.0/3cab103dadb9e5d1e6dcd8f4111f6c58b4bf837f404966c462bcf64fcffd9532)\n"
          ]
        }
      ],
      "source": [
        "dataset = load_dataset(\"beki/privy\", split=\"train\")\n",
        "with open(\"trainset.pkl\", \"wb\") as File:\n",
        "   pickle.dump(dataset, File)\n",
        "\n"
      ]
    },
    {
      "cell_type": "code",
      "source": [
        "from google.colab import files\n",
        "files.upload()"
      ],
      "metadata": {
        "id": "oixmQTiIDpQw",
        "colab": {
          "base_uri": "https://localhost:8080/",
          "height": 38
        },
        "outputId": "52c08351-e5c5-4487-bde7-1073bae8956c"
      },
      "execution_count": null,
      "outputs": [
        {
          "output_type": "display_data",
          "data": {
            "text/plain": [
              "<IPython.core.display.HTML object>"
            ],
            "text/html": [
              "\n",
              "     <input type=\"file\" id=\"files-46fd70a5-c5d1-4adc-90ba-9c62cf3f7ea2\" name=\"files[]\" multiple disabled\n",
              "        style=\"border:none\" />\n",
              "     <output id=\"result-46fd70a5-c5d1-4adc-90ba-9c62cf3f7ea2\">\n",
              "      Upload widget is only available when the cell has been executed in the\n",
              "      current browser session. Please rerun this cell to enable.\n",
              "      </output>\n",
              "      <script>// Copyright 2017 Google LLC\n",
              "//\n",
              "// Licensed under the Apache License, Version 2.0 (the \"License\");\n",
              "// you may not use this file except in compliance with the License.\n",
              "// You may obtain a copy of the License at\n",
              "//\n",
              "//      http://www.apache.org/licenses/LICENSE-2.0\n",
              "//\n",
              "// Unless required by applicable law or agreed to in writing, software\n",
              "// distributed under the License is distributed on an \"AS IS\" BASIS,\n",
              "// WITHOUT WARRANTIES OR CONDITIONS OF ANY KIND, either express or implied.\n",
              "// See the License for the specific language governing permissions and\n",
              "// limitations under the License.\n",
              "\n",
              "/**\n",
              " * @fileoverview Helpers for google.colab Python module.\n",
              " */\n",
              "(function(scope) {\n",
              "function span(text, styleAttributes = {}) {\n",
              "  const element = document.createElement('span');\n",
              "  element.textContent = text;\n",
              "  for (const key of Object.keys(styleAttributes)) {\n",
              "    element.style[key] = styleAttributes[key];\n",
              "  }\n",
              "  return element;\n",
              "}\n",
              "\n",
              "// Max number of bytes which will be uploaded at a time.\n",
              "const MAX_PAYLOAD_SIZE = 100 * 1024;\n",
              "\n",
              "function _uploadFiles(inputId, outputId) {\n",
              "  const steps = uploadFilesStep(inputId, outputId);\n",
              "  const outputElement = document.getElementById(outputId);\n",
              "  // Cache steps on the outputElement to make it available for the next call\n",
              "  // to uploadFilesContinue from Python.\n",
              "  outputElement.steps = steps;\n",
              "\n",
              "  return _uploadFilesContinue(outputId);\n",
              "}\n",
              "\n",
              "// This is roughly an async generator (not supported in the browser yet),\n",
              "// where there are multiple asynchronous steps and the Python side is going\n",
              "// to poll for completion of each step.\n",
              "// This uses a Promise to block the python side on completion of each step,\n",
              "// then passes the result of the previous step as the input to the next step.\n",
              "function _uploadFilesContinue(outputId) {\n",
              "  const outputElement = document.getElementById(outputId);\n",
              "  const steps = outputElement.steps;\n",
              "\n",
              "  const next = steps.next(outputElement.lastPromiseValue);\n",
              "  return Promise.resolve(next.value.promise).then((value) => {\n",
              "    // Cache the last promise value to make it available to the next\n",
              "    // step of the generator.\n",
              "    outputElement.lastPromiseValue = value;\n",
              "    return next.value.response;\n",
              "  });\n",
              "}\n",
              "\n",
              "/**\n",
              " * Generator function which is called between each async step of the upload\n",
              " * process.\n",
              " * @param {string} inputId Element ID of the input file picker element.\n",
              " * @param {string} outputId Element ID of the output display.\n",
              " * @return {!Iterable<!Object>} Iterable of next steps.\n",
              " */\n",
              "function* uploadFilesStep(inputId, outputId) {\n",
              "  const inputElement = document.getElementById(inputId);\n",
              "  inputElement.disabled = false;\n",
              "\n",
              "  const outputElement = document.getElementById(outputId);\n",
              "  outputElement.innerHTML = '';\n",
              "\n",
              "  const pickedPromise = new Promise((resolve) => {\n",
              "    inputElement.addEventListener('change', (e) => {\n",
              "      resolve(e.target.files);\n",
              "    });\n",
              "  });\n",
              "\n",
              "  const cancel = document.createElement('button');\n",
              "  inputElement.parentElement.appendChild(cancel);\n",
              "  cancel.textContent = 'Cancel upload';\n",
              "  const cancelPromise = new Promise((resolve) => {\n",
              "    cancel.onclick = () => {\n",
              "      resolve(null);\n",
              "    };\n",
              "  });\n",
              "\n",
              "  // Wait for the user to pick the files.\n",
              "  const files = yield {\n",
              "    promise: Promise.race([pickedPromise, cancelPromise]),\n",
              "    response: {\n",
              "      action: 'starting',\n",
              "    }\n",
              "  };\n",
              "\n",
              "  cancel.remove();\n",
              "\n",
              "  // Disable the input element since further picks are not allowed.\n",
              "  inputElement.disabled = true;\n",
              "\n",
              "  if (!files) {\n",
              "    return {\n",
              "      response: {\n",
              "        action: 'complete',\n",
              "      }\n",
              "    };\n",
              "  }\n",
              "\n",
              "  for (const file of files) {\n",
              "    const li = document.createElement('li');\n",
              "    li.append(span(file.name, {fontWeight: 'bold'}));\n",
              "    li.append(span(\n",
              "        `(${file.type || 'n/a'}) - ${file.size} bytes, ` +\n",
              "        `last modified: ${\n",
              "            file.lastModifiedDate ? file.lastModifiedDate.toLocaleDateString() :\n",
              "                                    'n/a'} - `));\n",
              "    const percent = span('0% done');\n",
              "    li.appendChild(percent);\n",
              "\n",
              "    outputElement.appendChild(li);\n",
              "\n",
              "    const fileDataPromise = new Promise((resolve) => {\n",
              "      const reader = new FileReader();\n",
              "      reader.onload = (e) => {\n",
              "        resolve(e.target.result);\n",
              "      };\n",
              "      reader.readAsArrayBuffer(file);\n",
              "    });\n",
              "    // Wait for the data to be ready.\n",
              "    let fileData = yield {\n",
              "      promise: fileDataPromise,\n",
              "      response: {\n",
              "        action: 'continue',\n",
              "      }\n",
              "    };\n",
              "\n",
              "    // Use a chunked sending to avoid message size limits. See b/62115660.\n",
              "    let position = 0;\n",
              "    do {\n",
              "      const length = Math.min(fileData.byteLength - position, MAX_PAYLOAD_SIZE);\n",
              "      const chunk = new Uint8Array(fileData, position, length);\n",
              "      position += length;\n",
              "\n",
              "      const base64 = btoa(String.fromCharCode.apply(null, chunk));\n",
              "      yield {\n",
              "        response: {\n",
              "          action: 'append',\n",
              "          file: file.name,\n",
              "          data: base64,\n",
              "        },\n",
              "      };\n",
              "\n",
              "      let percentDone = fileData.byteLength === 0 ?\n",
              "          100 :\n",
              "          Math.round((position / fileData.byteLength) * 100);\n",
              "      percent.textContent = `${percentDone}% done`;\n",
              "\n",
              "    } while (position < fileData.byteLength);\n",
              "  }\n",
              "\n",
              "  // All done.\n",
              "  yield {\n",
              "    response: {\n",
              "      action: 'complete',\n",
              "    }\n",
              "  };\n",
              "}\n",
              "\n",
              "scope.google = scope.google || {};\n",
              "scope.google.colab = scope.google.colab || {};\n",
              "scope.google.colab._files = {\n",
              "  _uploadFiles,\n",
              "  _uploadFilesContinue,\n",
              "};\n",
              "})(self);\n",
              "</script> "
            ]
          },
          "metadata": {}
        }
      ]
    },
    {
      "cell_type": "code",
      "execution_count": null,
      "metadata": {
        "id": "W3Q10UmFOC-y"
      },
      "outputs": [],
      "source": [
        "train_data = pd.read_pickle(\"/content/train_upsampled.pkl\")\n",
        "train_sub = train_data.iloc[:2000]\n",
        "train_sub.head()"
      ]
    },
    {
      "cell_type": "markdown",
      "metadata": {
        "id": "tw-PfvoZxzCN"
      },
      "source": [
        "__TODO__: Address class imbalance; aim for 60-80% negative examples and 20-40% positive examples.\n",
        "\n",
        "Consider #1 or #2 of https://elitedatascience.com/imbalanced-classes, (might already be implemented in https://github.com/scikit-learn-contrib/imbalanced-learn which is documented in https://learn-scikit.oneoffcoder.com/imbalanced-learn.html)"
      ]
    },
    {
      "cell_type": "code",
      "execution_count": null,
      "metadata": {
        "id": "7S0LZm9BVT1n"
      },
      "outputs": [],
      "source": [
        "import multiprocessing\n",
        "import concurrent.futures\n",
        "from sklearn.utils import resample"
      ]
    },
    {
      "cell_type": "code",
      "execution_count": null,
      "metadata": {
        "id": "QM1jMdErOFmp"
      },
      "outputs": [],
      "source": [
        "train_samples = train_sub[\"full_text\"]"
      ]
    },
    {
      "cell_type": "code",
      "execution_count": null,
      "metadata": {
        "id": "eN7-UdT7OGMN"
      },
      "outputs": [],
      "source": [
        "label = list(map(lambda row: any(map(lambda x: 'US_ITIN' in x, row)), train_sub[\"spans\"]))"
      ]
    },
    {
      "cell_type": "code",
      "execution_count": null,
      "metadata": {
        "id": "xHQlpjDQOKlJ"
      },
      "outputs": [],
      "source": [
        "train_df = pd.DataFrame({\n",
        "    'samples': train_samples,\n",
        "    'label': label\n",
        "})"
      ]
    },
    {
      "cell_type": "code",
      "execution_count": null,
      "metadata": {
        "colab": {
          "base_uri": "https://localhost:8080/"
        },
        "id": "FVtma4I2ONbf",
        "outputId": "fb714e1b-e153-4d23-e4f9-e2b4bae6dbae"
      },
      "outputs": [
        {
          "output_type": "execute_result",
          "data": {
            "text/plain": [
              "54"
            ]
          },
          "metadata": {},
          "execution_count": 20
        }
      ],
      "source": [
        "train_df[[\"label\"]] *= 1\n",
        "sum(train_df[\"label\"] == 1)"
      ]
    },
    {
      "cell_type": "code",
      "execution_count": null,
      "metadata": {
        "id": "mF3ej8f-qYr5"
      },
      "outputs": [],
      "source": [
        "# Separate majority and minority classes\n",
        "train_df_majority = train_df[train_df.label==0]\n",
        "train_df_minority = train_df[train_df.label==1]\n",
        "\n",
        "# Upsample minority class\n",
        "train_df_minority_upsampled = resample(train_df_minority,\n",
        "                                 replace=True,     # sample with replacement\n",
        "                                 n_samples=1000,    # to match majority class\n",
        "                                 random_state=200) # reproducible results\n",
        "\n",
        "# Combine majority class with upsampled minority class\n",
        "train_df_upsampled = pd.concat([train_df_majority, train_df_minority_upsampled])\n",
        "\n",
        "# Display new class counts\n",
        "train_df_upsampled.label.value_counts()\n",
        "\n",
        "with open(\"train_upsampled.pkl\", \"wb\") as File:\n",
        "   pickle.dump(train_df_upsampled, File)\n"
      ]
    },
    {
      "cell_type": "code",
      "source": [
        "ai_trainset = pd.read_pickle(\"train_upsampled.pkl\")\n"
      ],
      "metadata": {
        "id": "Q5RIziixFSqH"
      },
      "execution_count": null,
      "outputs": []
    },
    {
      "cell_type": "markdown",
      "metadata": {
        "id": "M6qelWpZyLH2"
      },
      "source": [
        "__TODO__: Revise the system prompt message / few shot examples to improve the \"evaluation metric\""
      ]
    },
    {
      "cell_type": "markdown",
      "metadata": {
        "id": "Tf0uWzJ74dAg"
      },
      "source": [
        "Adjusting Few Shot Examples: Upsampled Training Set"
      ]
    },
    {
      "cell_type": "code",
      "execution_count": null,
      "metadata": {
        "colab": {
          "base_uri": "https://localhost:8080/",
          "height": 49,
          "referenced_widgets": [
            "da7a16f9384c484587ec17221a9a3c3f",
            "be0bb4f337414e068e42bfe2a0c3a54e",
            "1fdfd530e1064b0b8d1ed4a6bcef2e21",
            "a1a3bbd8e07a4263b9b9e45ababd9a85",
            "3d4329414c4d4678823af685ce00b072",
            "07d5126827ec44eeb8ad839d4410dca3",
            "fa176b33b25448e39db4a27cd5712aed",
            "c1f5456d3e344954b508ffb8cd54223a",
            "e7920d39dc58491eafa7a50a27ac4050",
            "9f6d270036714caca961030c1826b43a",
            "641dc10a765a444dadca33de9efd9b00"
          ]
        },
        "id": "MwHHG4bAOQQL",
        "outputId": "1ac92d09-18af-41f2-88c1-7d97c2edef99"
      },
      "outputs": [
        {
          "output_type": "display_data",
          "data": {
            "text/plain": [
              "  0%|          | 0/2946 [00:00<?, ?it/s]"
            ],
            "application/vnd.jupyter.widget-view+json": {
              "version_major": 2,
              "version_minor": 0,
              "model_id": "da7a16f9384c484587ec17221a9a3c3f"
            }
          },
          "metadata": {}
        }
      ],
      "source": [
        "from langchain.prompts.chat import (\n",
        "  HumanMessagePromptTemplate,\n",
        ")\n",
        "from tqdm.auto import tqdm\n",
        "\n",
        "def make_chat_prompt(system_prompt, few_shot_examples):\n",
        "  system_message_prompt = HumanMessagePromptTemplate.from_template(system_prompt)\n",
        "\n",
        "  chat_template = [system_message_prompt]\n",
        "  for eg_input, eg_response in few_shot_examples:\n",
        "    example_human = HumanMessagePromptTemplate.from_template(eg_input)\n",
        "    chat_template.append(example_human)\n",
        "\n",
        "    example_ai = AIMessagePromptTemplate.from_template(eg_response)\n",
        "    chat_template.append(example_ai)\n",
        "\n",
        "  chat_template.append(\n",
        "      HumanMessagePromptTemplate.from_template(\"Sample: {text}\")\n",
        "  )\n",
        "  chat_prompt = ChatPromptTemplate.from_messages(chat_template)\n",
        "\n",
        "  return chat_prompt\n",
        "\n",
        "\n",
        "def get_probability_score(data, ai_prompt):\n",
        "  probability_score = []\n",
        "  for cprompt in tqdm(data):\n",
        "    chain = LLMChain(llm=ChatOpenAI(temperature=0), prompt=ai_prompt)\n",
        "    result = chain.run(cprompt)\n",
        "    probability_score.append(str(result))\n",
        "  return probability_score\n",
        "\n",
        "chat_prompt = make_chat_prompt(\n",
        "    system_prompt=\"\"\"\n",
        "Output a score between 0.001 and 0.99 indicating the likelihood the following string contains a SSN. Only output a float, no text.\n",
        "\"\"\",\n",
        "    few_shot_examples=[\n",
        "      (\"Sample: 'resourceGroupName': 'AnC', 'subscriptionId': 'gJ5sNIY'\", \"0.0\"),\n",
        "      (\"Sample: 'taxid': '888776541'\", \"1.0\"),\n",
        "      (\"Sample: 'prefix': 'Mr.'\", \"0.0\"),\n",
        "      (\"Sample: 'chase': '445672753518468',\", \"0.0\"),\n",
        "      (\"Sample: phone_number</th><td>396-821-9714</td></tr><tr><th>tax-identification-number</th><td>8546</td></tr><tr>\", \"0.8\"),\n",
        "      (\"Sample: <table border='1'><tr><th>engine\", \"0.0\"),\n",
        "      (\"Sample: 36-RG78,male,S,801-232-8314,3Wr\", \"1.0\"),\n",
        "  ]\n",
        ")\n",
        "probability_score = get_probability_score(ai_trainset[\"samples\"], chat_prompt)\n",
        "with open(\"ai_model_trainset.pkl\", \"wb\") as File:\n",
        "   pickle.dump(probability_score, File)\n",
        "\n"
      ]
    },
    {
      "cell_type": "markdown",
      "metadata": {
        "id": "HpFbj0EByU20"
      },
      "source": [
        "__NOTE__: this is slow because we are getting rate limited if concurrency is too high."
      ]
    },
    {
      "cell_type": "code",
      "execution_count": null,
      "metadata": {
        "id": "wd6TEUPqwkvu"
      },
      "outputs": [],
      "source": [
        "# import multiprocessing\n",
        "\n",
        "\n",
        "# def calc_stuff(prompt):\n",
        "#   chain = LLMChain(llm=ChatOpenAI(temperature=0), prompt=chat_prompt)\n",
        "#   result = chain.run(prompt)\n",
        "#   return str(result)\n",
        "\n",
        "# with multiprocessing.Pool(2) as p:\n",
        "#   r = list(tqdm(p.imap(calc_stuff, bpdf[\"samples\"]), total=bpdf.shape[0]))"
      ]
    },
    {
      "cell_type": "code",
      "execution_count": null,
      "metadata": {
        "id": "M7Y1g69hOkib"
      },
      "outputs": [],
      "source": [
        "probability_score = pd.read_pickle(\"ai_model_trainset.pkl\")\n",
        "\n",
        "ai_trainset[\"probability_score\"] = probability_score\n",
        "#len(ai_trainset[\"samples\"]) == len(probability_score)\n",
        "\n",
        "\n",
        "#sum((ai_trainset[\"probability_score\"] == '1.0') & (ai_trainset[\"label\"] == 0))"
      ]
    },
    {
      "cell_type": "code",
      "execution_count": null,
      "metadata": {
        "id": "sHAzJRZtOrAP"
      },
      "outputs": [],
      "source": [
        "import numpy as np\n",
        "import sklearn\n",
        "from sklearn import metrics\n",
        "import matplotlib.pyplot as plt\n",
        "\n",
        "\n",
        "def roc_plot(y_scores, y_true):\n",
        "  sklearn.metrics.roc_curve(y_true, y_scores, pos_label=True, sample_weight=None, drop_intermediate=True)\n",
        "  y = y_true\n",
        "  pred = y_scores\n",
        "  fpr, tpr, thresholds = metrics.roc_curve(y, pred)\n",
        "  roc_auc = metrics.auc(fpr, tpr)\n",
        "  display = metrics.RocCurveDisplay(fpr=fpr, tpr=tpr, roc_auc=roc_auc, estimator_name='example estimator')\n",
        "  display.plot()\n",
        "  return plt.show()\n",
        "\n",
        "\n",
        "\n"
      ]
    },
    {
      "cell_type": "code",
      "source": [
        "y_scores_train = pd.to_numeric(ai_trainset[\"probability_score\"])\n",
        "y_true_train = pd.to_numeric(ai_trainset[\"label\"])\n",
        "roc_plot(y_scores_train, y_true_train)"
      ],
      "metadata": {
        "id": "O3FtztFe1Hiw"
      },
      "execution_count": null,
      "outputs": []
    },
    {
      "cell_type": "markdown",
      "metadata": {
        "id": "PbQ8jpBI4RTu"
      },
      "source": [
        "Adjusted Prompt and Few Shot: Upsampled Training Data Set"
      ]
    },
    {
      "cell_type": "code",
      "execution_count": null,
      "metadata": {
        "id": "yvUFd0nR4OdH"
      },
      "outputs": [],
      "source": [
        "from langchain.prompts.chat import (\n",
        "  HumanMessagePromptTemplate,\n",
        ")\n",
        "from tqdm.auto import tqdm\n",
        "\n",
        "def make_chat_prompt(system_prompt, few_shot_examples):\n",
        "  system_message_prompt = HumanMessagePromptTemplate.from_template(system_prompt)\n",
        "\n",
        "  chat_template = [system_message_prompt]\n",
        "  for eg_input, eg_response in few_shot_examples:\n",
        "    example_human = HumanMessagePromptTemplate.from_template(eg_input)\n",
        "    chat_template.append(example_human)\n",
        "\n",
        "    example_ai = AIMessagePromptTemplate.from_template(eg_response)\n",
        "    chat_template.append(example_ai)\n",
        "\n",
        "  chat_template.append(\n",
        "      HumanMessagePromptTemplate.from_template(\"Sample: {text}\")\n",
        "  )\n",
        "  chat_prompt = ChatPromptTemplate.from_messages(chat_template)\n",
        "\n",
        "  return chat_prompt\n",
        "\n",
        "def get_probability_score(data, ai_prompt):\n",
        "  probability_score = []\n",
        "  for cprompt in tqdm(data):\n",
        "    chain = LLMChain(llm=ChatOpenAI(temperature=0), prompt=ai_prompt)\n",
        "    result = chain.run(cprompt)\n",
        "    probability_score.append(str(result))\n",
        "  return probability_score\n",
        "\n",
        "\n"
      ]
    },
    {
      "cell_type": "code",
      "source": [
        "chat_prompt = make_chat_prompt(\n",
        "    system_prompt=\"\"\"\n",
        "Output a score between 0.001 and 0.99 computing the probability the following string contains a SSN. Only output a float, no text.\n",
        "\"\"\",\n",
        "    few_shot_examples=[\n",
        "      (\"Sample: 'resourceGroupName': 'AnC', 'subscriptionId': 'gJ5sNIY'\", \"0.0\"),\n",
        "      (\"Sample: 'taxid': '888776541'\", \"1.0\"),\n",
        "      (\"Sample: 'prefix': 'Mr.'\", \"0.0\"),\n",
        "      (\"Sample: 'chase': '445672753518468',\", \"0.0\"),\n",
        "      (\"Sample: phone_number</th><td>396-821-9714</td></tr><tr><th>tax-identification-number</th><td>8546</td></tr><tr>\", \"0.8\"),\n",
        "      (\"Sample: <table border='1'><tr><th>engine\", \"0.0\"),\n",
        "      (\"Sample: 36-RG78,male,S,801-232-8314,3Wr\", \"1.0\"),\n",
        "  ]\n",
        ")\n",
        "\n",
        "probability_score = get_probability_score(ai_trainset[\"samples\"], chat_prompt)\n",
        "with open(\"ai_model_trainset_p_fs.pkl\", \"wb\") as File:\n",
        "   pickle.dump(probability_score, File)"
      ],
      "metadata": {
        "id": "qcVQ8zFK1VqW"
      },
      "execution_count": null,
      "outputs": []
    },
    {
      "cell_type": "code",
      "source": [
        "probability_score = pd.read_pickle(\"ai_model_trainset_p_fs.pkl\")\n",
        "\n",
        "ai_trainset[\"probability_score\"] = probability_score"
      ],
      "metadata": {
        "id": "K5zcy2xlkBSX"
      },
      "execution_count": null,
      "outputs": []
    },
    {
      "cell_type": "markdown",
      "metadata": {
        "id": "YEGh_i4tt53v"
      },
      "source": [
        "__TODO__: Once we are happy with the \"final\" version of the model (prompt and few shot examples), compute ROC on the  test set and report it here.\n",
        "\n",
        "\n"
      ]
    },
    {
      "cell_type": "code",
      "execution_count": null,
      "metadata": {
        "colab": {
          "base_uri": "https://localhost:8080/"
        },
        "id": "_EFLEh8jDhGj",
        "outputId": "234c8ff4-7908-4c36-ecc0-154a7e08e9f5"
      },
      "outputs": [
        {
          "output_type": "execute_result",
          "data": {
            "text/plain": [
              "41"
            ]
          },
          "metadata": {},
          "execution_count": 12
        }
      ],
      "source": [
        "ai_trainset[\"probability_score\"] = probability_score\n",
        "sum((ai_trainset[\"probability_score\"] == '1.0') & (ai_trainset[\"label\"] == 0))"
      ]
    },
    {
      "cell_type": "code",
      "execution_count": null,
      "metadata": {
        "colab": {
          "base_uri": "https://localhost:8080/",
          "height": 449
        },
        "id": "yKfNj-iODH64",
        "outputId": "c03363ba-ac7b-41cb-e97b-68a5d6706d84"
      },
      "outputs": [
        {
          "output_type": "display_data",
          "data": {
            "text/plain": [
              "<Figure size 640x480 with 1 Axes>"
            ],
            "image/png": "[encoded data removed]"
          },
          "metadata": {}
        }
      ],
      "source": [
        "# y_scores = pd.to_numeric(df_upsampled[\"probability_score\"])\n",
        "# y_true = pd.to_numeric(df_upsampled[\"label\"])\n",
        "\n",
        "# sklearn.metrics.roc_curve(y_true, y_scores, pos_label=True, sample_weight=None, drop_intermediate=True)\n",
        "# y = y_true\n",
        "# pred = y_scores\n",
        "# fpr, tpr, thresholds = metrics.roc_curve(y, pred)\n",
        "# roc_auc = metrics.auc(fpr, tpr)\n",
        "# display = metrics.RocCurveDisplay(fpr=fpr, tpr=tpr, roc_auc=roc_auc, estimator_name='example estimator')\n",
        "# display.plot()\n",
        "\n",
        "# plt.show()\n",
        "y_scores_train = pd.to_numeric(ai_trainset[\"probability_score\"])\n",
        "y_true_train = pd.to_numeric(ai_trainset[\"label\"])\n",
        "roc_plot(y_scores_train, y_true_train)"
      ]
    },
    {
      "cell_type": "code",
      "execution_count": null,
      "metadata": {
        "colab": {
          "base_uri": "https://localhost:8080/",
          "height": 241,
          "referenced_widgets": [
            "9875e44e8c274b56b0ac9514afb33734",
            "c8a5169d68ca4c91b90c9e0353432495",
            "c744b950ed08440b890dd43f0bf31719",
            "73776e03885b4c78b2b2b4ffa29db76a",
            "c12aba270fd547a2978b0cc7afbbd483",
            "542687c36aaf4b66a6f350f6ec3ae87a",
            "39c8e716ca144aeeb2c4ff1823fe2b8c",
            "2b4bf1d673ee43b5b4f18c669ad70402",
            "cb607865fdaf4d62ade34092a96f9e67",
            "2d84e2dd0b1e4f6d9002b4aa87eb832b",
            "ed790b27ea274846842875ec56baabf5",
            "3dc81ae0dfc04849824902f91ff4d3b1",
            "239c3e201d6149b1a864f29b8a7e9cdc",
            "7cdd0392277c431fb5e4b48c7e066ef7",
            "6fea76726ced4a0ebd74ba309342d546",
            "64bffbf5188540d2ad237bf6f5f34a1c",
            "3a51c3f032484e7a8b62bb1f10940ee2",
            "09748a0423e041d99176bf15d4c393d5",
            "ef679c77202c463eba27bac1b138f2d5",
            "93ac3dd88f0e4a06b295e30d0305cc2e",
            "5ab5503fc2464b6da97f40d5800a4c7c",
            "a8df8733bf9d4625b0c1fe0b8468d5ba",
            "af52fae9147a48a6bb4764d250658414",
            "3eb3e30d79354885ade2782d9450917f",
            "9e4ecf299ed0436981decd9fbc43b3cc",
            "03669e817c0c492fb7df141d95205b2a",
            "10a5cff872784a37af6bf849e7558477",
            "a578f9f251804c55895490e3f3b1e031",
            "8aa238b2ec0b410eb8a176f2bb2e9ca0",
            "db85ba1704754263a7919580c7833ab1",
            "a95bc53bca904ac990856b74b40a8b86",
            "d40611f459f740d8913a8f532fbad37a",
            "6893075f5188489eb507244a4310cbf9",
            "2d0a3a0963c540e89937e75f2b9df1c7",
            "15bfdfa0b9064e6c94941f74eaac1ea6",
            "afb37441e4e545c781f2bd2840047d29",
            "6b839320b0124b84a5156e7c5d4f6356",
            "6c88383ba6be4353b6a3a57341b43861",
            "ce90be9a1a8945b8b518e587a8574f3f",
            "6119fd487a0b4054b3c35a893ab315c5",
            "e1162002f9ac47e192e13693c813c36c",
            "92ac369d8d8043f7834fff84fa3e13d6",
            "9af37772ea1a4cf4aee9d027f768bda9",
            "cfc042c3f8a94eee9b0a6f28038d2ec6",
            "9e2fcf6deb9c4379a90e6b8ff4c9817d",
            "fdaf8e15a66f473399f294c9faab93cc",
            "0d4b31954b9b4d7d8602f01dac4721b3",
            "2738e5b01a9a4ceeafdb0d851f0cb4c2",
            "25f15745984f42048d75875197fda9d1",
            "b02037fd744b4a3eaa47d5ef60925982",
            "5e106567dea6430994fb265f1109817f",
            "299551310c214ae1a564013380f1da3f",
            "1e363c1263be48539e8441464d8e2533",
            "02dcb8cf1f0d413fa5cdb8ed2556752a",
            "80211f38c2ca4b4a9a30f86ae0b846ff",
            "4ce3f113fbb7410285502bf23784191a",
            "cd2d0b94753542cd9b717a4df2c58dd9",
            "2e31588ce12b4b50a868a781aab6dc42",
            "16d2386832734bb292e75b0110225170",
            "69842cebfb584cf0a480fd7417938f62",
            "1e7fb7e5bb734b309d0650b3c57afc0f",
            "d70ffdd3d38e402ba5984dc25c3e9435",
            "4ca0c44ea8f54cb69e4fdfbce06e612b",
            "56bf33c8574b4cc1afff5a34283fa2ab",
            "34e51e4de7dc4a75b092e5b9ff678df0",
            "86486c02fa40428aa11f8e50acf5b0c2",
            "ab9482a8c9524cdc9149c7b6cbd9dcc1",
            "9e1dab877d4144f198a94c18d142f68a",
            "e90ea6e5969c4cda907a5c472931be49",
            "0b2af0f8fc034bfe9177fd07850db981",
            "d53b268e6bb445be8782bc3688cc2496",
            "5e434f24149844f3be7a7cff3f4b68a9",
            "e02bd0ac734747bc913bb4c75d9f13b2",
            "f1628241d2854a2babd7a1a65b3257d1",
            "e8c91e0668834a478fb496d44f7b91be",
            "ad6c3db65cc64b7c8717e8f7b5348682",
            "96c3109fd38c43c487e625ecd3790e4b"
          ]
        },
        "id": "GXJAEaOUzamh",
        "outputId": "5ff744d8-c78a-452b-acc7-25e459769fdb"
      },
      "outputs": [
        {
          "output_type": "display_data",
          "data": {
            "text/plain": [
              "Downloading builder script:   0%|          | 0.00/19.2k [00:00<?, ?B/s]"
            ],
            "application/vnd.jupyter.widget-view+json": {
              "version_major": 2,
              "version_minor": 0,
              "model_id": "9875e44e8c274b56b0ac9514afb33734"
            }
          },
          "metadata": {}
        },
        {
          "output_type": "display_data",
          "data": {
            "text/plain": [
              "Downloading metadata:   0%|          | 0.00/7.49k [00:00<?, ?B/s]"
            ],
            "application/vnd.jupyter.widget-view+json": {
              "version_major": 2,
              "version_minor": 0,
              "model_id": "3dc81ae0dfc04849824902f91ff4d3b1"
            }
          },
          "metadata": {}
        },
        {
          "output_type": "display_data",
          "data": {
            "text/plain": [
              "Downloading readme:   0%|          | 0.00/6.22k [00:00<?, ?B/s]"
            ],
            "application/vnd.jupyter.widget-view+json": {
              "version_major": 2,
              "version_minor": 0,
              "model_id": "af52fae9147a48a6bb4764d250658414"
            }
          },
          "metadata": {}
        },
        {
          "output_type": "display_data",
          "data": {
            "text/plain": [
              "Downloading data:   0%|          | 0.00/308M [00:00<?, ?B/s]"
            ],
            "application/vnd.jupyter.widget-view+json": {
              "version_major": 2,
              "version_minor": 0,
              "model_id": "2d0a3a0963c540e89937e75f2b9df1c7"
            }
          },
          "metadata": {}
        },
        {
          "output_type": "display_data",
          "data": {
            "text/plain": [
              "Generating train split:   0%|          | 0/100951 [00:00<?, ? examples/s]"
            ],
            "application/vnd.jupyter.widget-view+json": {
              "version_major": 2,
              "version_minor": 0,
              "model_id": "9e2fcf6deb9c4379a90e6b8ff4c9817d"
            }
          },
          "metadata": {}
        },
        {
          "output_type": "display_data",
          "data": {
            "text/plain": [
              "Generating validation split:   0%|          | 0/14422 [00:00<?, ? examples/s]"
            ],
            "application/vnd.jupyter.widget-view+json": {
              "version_major": 2,
              "version_minor": 0,
              "model_id": "4ce3f113fbb7410285502bf23784191a"
            }
          },
          "metadata": {}
        },
        {
          "output_type": "display_data",
          "data": {
            "text/plain": [
              "Generating test split:   0%|          | 0/28843 [00:00<?, ? examples/s]"
            ],
            "application/vnd.jupyter.widget-view+json": {
              "version_major": 2,
              "version_minor": 0,
              "model_id": "ab9482a8c9524cdc9149c7b6cbd9dcc1"
            }
          },
          "metadata": {}
        }
      ],
      "source": [
        "dataset = load_dataset(\"beki/privy\", split=\"test\")\n",
        "with open(\"testset.pkl\", \"wb\") as File:\n",
        "   pickle.dump(dataset, File)\n"
      ]
    },
    {
      "cell_type": "code",
      "execution_count": null,
      "metadata": {
        "id": "s0VRnBxBe04o"
      },
      "outputs": [],
      "source": [
        "test_sub = dataset.to_pandas().iloc[:5000]"
      ]
    },
    {
      "cell_type": "code",
      "execution_count": null,
      "metadata": {
        "id": "gSLA2GyYy1a1"
      },
      "outputs": [],
      "source": [
        "test_samples = test_sub[\"full_text\"]"
      ]
    },
    {
      "cell_type": "code",
      "execution_count": null,
      "metadata": {
        "id": "TS8gAG-DfhzY"
      },
      "outputs": [],
      "source": [
        "label = list(map(lambda row: any(map(lambda x: 'US_ITIN' in x, row)), test_sub[\"spans\"]))"
      ]
    },
    {
      "cell_type": "code",
      "execution_count": null,
      "metadata": {
        "id": "oG32J3xzftQB"
      },
      "outputs": [],
      "source": [
        "testdf = pd.DataFrame({\n",
        "    'samples': test_samples,\n",
        "    'label': label\n",
        "})"
      ]
    },
    {
      "cell_type": "code",
      "execution_count": null,
      "metadata": {
        "colab": {
          "base_uri": "https://localhost:8080/"
        },
        "id": "2czl81bpfzRr",
        "outputId": "62c53c64-490b-477e-c994-c0b4cf38732f"
      },
      "outputs": [
        {
          "output_type": "execute_result",
          "data": {
            "text/plain": [
              "128"
            ]
          },
          "metadata": {},
          "execution_count": 20
        }
      ],
      "source": [
        "testdf[[\"label\"]] *= 1\n",
        "sum(testdf[\"label\"] == 1)"
      ]
    },
    {
      "cell_type": "code",
      "execution_count": null,
      "metadata": {
        "id": "-iq_KVHWf4hP"
      },
      "outputs": [],
      "source": [
        "# Separate majority and minority classes\n",
        "testdf_majority = testdf[testdf.label==0]\n",
        "testdf_minority = testdf[testdf.label==1]\n",
        "\n",
        "# Upsample minority class\n",
        "testdf_minority_upsampled = resample(testdf_minority,\n",
        "                                 replace=True,     # sample with replacement\n",
        "                                 n_samples=2400,    # to match majority class\n",
        "                                 random_state=1800) # reproducible results\n",
        "\n",
        "# Combine majority class with upsampled minority class\n",
        "testdf_upsampled = pd.concat([testdf_majority, testdf_minority_upsampled])\n",
        "\n",
        "# Display new class counts\n",
        "testdf_upsampled.label.value_counts()\n",
        "\n",
        "with open(\"testdf_upsampled.pkl\", \"wb\") as File:\n",
        "   pickle.dump(testdf_upsampled, File)"
      ]
    },
    {
      "cell_type": "code",
      "source": [
        "ai_testset = pd.read_pickle(\"testdf_upsampled.pkl\")"
      ],
      "metadata": {
        "id": "MZwYLqFoUvK_"
      },
      "execution_count": null,
      "outputs": []
    },
    {
      "cell_type": "markdown",
      "metadata": {
        "id": "0e2h9GQoguxh"
      },
      "source": [
        "Adjusted Prompt and Few Shot: Upsampled Testing Set"
      ]
    },
    {
      "cell_type": "code",
      "execution_count": null,
      "metadata": {
        "id": "_pT7zYkir54P"
      },
      "outputs": [],
      "source": [
        "chat_prompt = make_chat_prompt(\n",
        "    system_prompt=\"\"\"\n",
        "Output a score between 0.001 and 0.99 computing the probability the following string contains a SSN. Only output a float, no text.\n",
        "\"\"\",\n",
        "    few_shot_examples=[\n",
        "      (\"Sample: 'resourceGroupName': 'AnC', 'subscriptionId': 'gJ5sNIY'\", \"0.0\"),\n",
        "      (\"Sample: 'taxid': '888776541'\", \"1.0\"),\n",
        "      (\"Sample: 'prefix': 'Mr.'\", \"0.0\"),\n",
        "      (\"Sample: 'chase': '445672753518468',\", \"0.0\"),\n",
        "      (\"Sample: phone_number</th><td>396-821-9714</td></tr><tr><th>tax-identification-number</th><td>8546</td></tr><tr>\", \"0.8\"),\n",
        "      (\"Sample: <table border='1'><tr><th>engine\", \"0.0\"),\n",
        "      (\"Sample: 36-RG78,male,S,801-232-8314,3Wr\", \"1.0\"),\n",
        "  ]\n",
        ")\n",
        "\n",
        "probability_score = get_probability_score(ai_testset[\"samples\"], chat_prompt)\n",
        "with open(\"ai_model_testset_p_fs.pkl\", \"wb\") as File:\n",
        "   pickle.dump(probability_score, File)"
      ]
    },
    {
      "cell_type": "code",
      "source": [
        "probability_score = pd.read_pickle(\"ai_model_testset_p_fs.pkl\")\n",
        "\n",
        "ai_testset[\"probability_score\"] = probability_score"
      ],
      "metadata": {
        "id": "1nmINmqf6pqu"
      },
      "execution_count": null,
      "outputs": []
    },
    {
      "cell_type": "code",
      "execution_count": null,
      "metadata": {
        "colab": {
          "base_uri": "https://localhost:8080/"
        },
        "id": "IRqTnsWht5HC",
        "outputId": "2c7ce6d6-7c8c-4b19-e415-26ee92a82124"
      },
      "outputs": [
        {
          "output_type": "execute_result",
          "data": {
            "text/plain": [
              "109"
            ]
          },
          "metadata": {},
          "execution_count": 15
        }
      ],
      "source": [
        "ai_testset[\"probability_score\"] = probability_score\n",
        "sum((ai_testset[\"probability_score\"] == '1.0') & (ai_testset[\"label\"] == 0))"
      ]
    },
    {
      "cell_type": "code",
      "source": [
        "y_scores_test = pd.to_numeric(ai_testset[\"probability_score\"])\n",
        "y_true_test = pd.to_numeric(ai_testset[\"label\"])\n",
        "roc_plot(y_scores_test, y_true_test)"
      ],
      "metadata": {
        "colab": {
          "base_uri": "https://localhost:8080/",
          "height": 449
        },
        "id": "us7_IAXSznOo",
        "outputId": "53242780-37ca-48dc-8f5d-abb8201f2e72"
      },
      "execution_count": null,
      "outputs": [
        {
          "output_type": "display_data",
          "data": {
            "text/plain": [
              "<Figure size 640x480 with 1 Axes>"
            ],
            "image/png": "[encoded data removed]"
          },
          "metadata": {}
        }
      ]
    },
    {
      "cell_type": "markdown",
      "metadata": {
        "id": "-t4BikJsynt0"
      },
      "source": [
        "Comparing to [Presidio](https://microsoft.github.io/presidio/getting_started/) [`US_SSN`](https://microsoft.github.io/presidio/supported_entities/) analyzer."
      ]
    },
    {
      "cell_type": "code",
      "source": [
        "!pip install presidio-analyzer\n",
        "!pip install presidio-anonymizer\n",
        "!python -m spacy download en_core_web_lg"
      ],
      "metadata": {
        "id": "EljrB1-13Z3s"
      },
      "execution_count": null,
      "outputs": []
    },
    {
      "cell_type": "code",
      "source": [
        "from presidio_analyzer import AnalyzerEngine\n",
        "from presidio_anonymizer import AnonymizerEngine\n",
        "\n",
        "text=\"My social is 212-55-5555\"\n",
        "\n",
        "# Set up the engine, loads the NLP module (spaCy model by default)\n",
        "# and other PII recognizers\n",
        "analyzer = AnalyzerEngine()\n",
        "\n",
        "# Call analyzer to get results\n",
        "results = analyzer.analyze(text=text,\n",
        "                           entities=[\"US_SSN\"],\n",
        "                           language='en')\n",
        "print(results)\n",
        "\n",
        "# # Analyzer results are passed to the AnonymizerEngine for anonymization\n",
        "\n",
        "# anonymizer = AnonymizerEngine()\n",
        "\n",
        "# anonymized_text = anonymizer.anonymize(text=text,analyzer_results=results)\n",
        "\n",
        "# print(anonymized_text)"
      ],
      "metadata": {
        "colab": {
          "base_uri": "https://localhost:8080/"
        },
        "id": "2lSQ53bw4INL",
        "outputId": "ee83eb96-d9f1-459b-8ff0-f24f9627e196"
      },
      "execution_count": null,
      "outputs": [
        {
          "output_type": "stream",
          "name": "stderr",
          "text": [
            "WARNING:presidio-analyzer:configuration file /usr/local/lib/python3.10/dist-packages/conf/default.yaml not found.  Using default config: {'nlp_engine_name': 'spacy', 'models': [{'lang_code': 'en', 'model_name': 'en_core_web_lg'}]}.\n"
          ]
        },
        {
          "output_type": "stream",
          "name": "stdout",
          "text": [
            "[type: US_SSN, start: 13, end: 24, score: 0.85]\n"
          ]
        }
      ]
    },
    {
      "cell_type": "code",
      "source": [
        "def predict_with_presidio(text):\n",
        "    results = analyzer.analyze(text=text,\n",
        "                           entities=[\"US_SSN\"],\n",
        "                           language='en')\n",
        "    for result in results:\n",
        "      if result.entity_type == 'US_SSN':\n",
        "        return result.score\n",
        "    return 0.0"
      ],
      "metadata": {
        "id": "ueTJCvQ5Qtr3"
      },
      "execution_count": null,
      "outputs": []
    },
    {
      "cell_type": "code",
      "source": [
        "def get_probability_score(data):\n",
        "  probability_score = []\n",
        "  for cprompt in tqdm(data):\n",
        "    result = predict_with_presidio(cprompt)\n",
        "    probability_score.append(str(result))\n",
        "  return probability_score"
      ],
      "metadata": {
        "id": "iNLuoOGaSTbE"
      },
      "execution_count": null,
      "outputs": []
    },
    {
      "cell_type": "code",
      "source": [
        "probability_score = get_probability_score(ai_testset[\"samples\"])\n",
        "with open(\"presidio_model_testset.pkl\", \"wb\") as File:\n",
        "   pickle.dump(probability_score, File)"
      ],
      "metadata": {
        "colab": {
          "base_uri": "https://localhost:8080/",
          "height": 49,
          "referenced_widgets": [
            "ffd311ebc592406eae5554225168f4c7",
            "83c2030647ac40fea267fbae0ba76776",
            "2171342786c343d8abb49d6bd1e510ed",
            "3be52fa8ad994075b22454ecbc570d6d",
            "a795994c0bda4fe48ce3cace7c38259b",
            "81c2f66275854dce8a8e17cbd64c8327",
            "33d86acf45d24546950161520b5fc12b",
            "b027aeab79c041d4a7bed9e0189868a0",
            "d4a29961bff34d09978e72faa2c022b2",
            "2355fffd9a9e4c9e837f704738bb0c33",
            "6cce58e02c764388b49b9fd2a218f9b0"
          ]
        },
        "id": "z_QeuCZ5QRHG",
        "outputId": "89037586-716b-4a19-b2d7-601dbcf250db"
      },
      "execution_count": null,
      "outputs": [
        {
          "output_type": "display_data",
          "data": {
            "text/plain": [
              "  0%|          | 0/7272 [00:00<?, ?it/s]"
            ],
            "application/vnd.jupyter.widget-view+json": {
              "version_major": 2,
              "version_minor": 0,
              "model_id": "ffd311ebc592406eae5554225168f4c7"
            }
          },
          "metadata": {}
        }
      ]
    },
    {
      "cell_type": "code",
      "source": [
        "probability_score = pd.read_pickle(\"presidio_model_testset.pkl\")\n",
        "\n",
        "ai_testset[\"probability_score_pres\"] = probability_score"
      ],
      "metadata": {
        "id": "8d8xC6eZ-tA3"
      },
      "execution_count": null,
      "outputs": []
    },
    {
      "cell_type": "code",
      "source": [
        "y_scores_test = pd.to_numeric(ai_testset[\"probability_score_pres\"])\n",
        "y_true_test = pd.to_numeric(ai_testset[\"label\"])\n",
        "roc_plot(y_scores_test, y_true_test)"
      ],
      "metadata": {
        "colab": {
          "base_uri": "https://localhost:8080/",
          "height": 449
        },
        "id": "kE56nC6P_GSc",
        "outputId": "865bb280-fa68-424f-e6df-8b7a3f5ddc80"
      },
      "execution_count": null,
      "outputs": [
        {
          "output_type": "display_data",
          "data": {
            "text/plain": [
              "<Figure size 640x480 with 1 Axes>"
            ],
            "image/png": "[encoded data removed]"
          },
          "metadata": {}
        }
      ]
    },
    {
      "cell_type": "code",
      "execution_count": null,
      "metadata": {
        "id": "94-546WJ9nDV"
      },
      "outputs": [],
      "source": []
    }
  ]
}